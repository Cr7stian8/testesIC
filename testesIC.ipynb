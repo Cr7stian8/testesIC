{
  "nbformat": 4,
  "nbformat_minor": 0,
  "metadata": {
    "colab": {
      "provenance": [],
      "authorship_tag": "ABX9TyNFkwnH6+eJGjbtsbDGS57P",
      "include_colab_link": true
    },
    "kernelspec": {
      "name": "python3",
      "display_name": "Python 3"
    },
    "language_info": {
      "name": "python"
    }
  },
  "cells": [
    {
      "cell_type": "markdown",
      "metadata": {
        "id": "view-in-github",
        "colab_type": "text"
      },
      "source": [
        "<a href=\"https://colab.research.google.com/github/Cr7stian8/testesIC/blob/main/testesIC.ipynb\" target=\"_parent\"><img src=\"https://colab.research.google.com/assets/colab-badge.svg\" alt=\"Open In Colab\"/></a>"
      ]
    },
    {
      "cell_type": "markdown",
      "source": [
        "# Função de Bessel de primeira ordem"
      ],
      "metadata": {
        "id": "y0Xi4CVUAJvz"
      }
    },
    {
      "cell_type": "code",
      "execution_count": null,
      "metadata": {
        "id": "J048Q02v_sox"
      },
      "outputs": [],
      "source": [
        "import numpy as np\n",
        "import matplotlib.pyplot as plt\n",
        "from scipy.special import jv\n",
        "\n",
        "# Definindo o intervalo de valores para o eixo x\n",
        "x = np.linspace(0, 20, 400)\n",
        "\n",
        "# Calculando os valores da função de Bessel de primeira ordem para n=1\n",
        "n = 0  # Ordem da função de Bessel\n",
        "y = jv(n, x)\n",
        "\n",
        "# Plotando o gráfico\n",
        "plt.plot(x, y, label=f'J_{n}(x)')\n",
        "plt.title(f'Função de Bessel de Primeira Ordem (J_{n}(x))')\n",
        "plt.xlabel('x')\n",
        "plt.ylabel(f'J_{n}(x)')\n",
        "plt.grid(True)\n",
        "plt.legend()\n",
        "plt.show()"
      ]
    }
  ]
}